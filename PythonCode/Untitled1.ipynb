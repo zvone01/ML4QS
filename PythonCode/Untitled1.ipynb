{
 "cells": [
  {
   "cell_type": "code",
   "execution_count": null,
   "metadata": {
    "collapsed": false
   },
   "outputs": [],
   "source": [
    "from util.VisualizeDataset import VisualizeDataset\n",
    "from Chapter4.TemporalAbstraction import NumericalAbstraction\n",
    "from Chapter4.TemporalAbstraction import CategoricalAbstraction\n",
    "from Chapter4.FrequencyAbstraction import FourierTransformation\n",
    "from Chapter4.TextAbstraction import TextAbstraction\n",
    "import copy\n",
    "import pandas as pd\n"
   ]
  },
  {
   "cell_type": "code",
   "execution_count": null,
   "metadata": {
    "collapsed": true
   },
   "outputs": [],
   "source": [
    "\n",
    "# Let us create our visualization class again.\n",
    "DataViz = VisualizeDataset()\n",
    "\n",
    "# Read the result from the previous chapter, and make sure the index is of the type datetime.\n",
    "dataset_path = './intermediate_datafiles/'\n",
    "try:\n",
    "    dataset = pd.read_csv(dataset_path + 'chapter3_result_final.csv', index_col=0)\n",
    "except IOError as e:\n",
    "    print('File not found, try to run previous crowdsignals scripts first!')\n",
    "    raise e\n",
    "\n",
    "dataset.index = dataset.index.to_datetime()\n",
    "\n",
    "# Compute the number of milliseconds covered by an instane based on the first two rows\n",
    "milliseconds_per_instance = (dataset.index[1] - dataset.index[0]).microseconds/1000\n",
    "\n"
   ]
  },
  {
   "cell_type": "code",
   "execution_count": null,
   "metadata": {
    "collapsed": false
   },
   "outputs": [],
   "source": [
    "dataset.head()"
   ]
  },
  {
   "cell_type": "code",
   "execution_count": null,
   "metadata": {
    "collapsed": false
   },
   "outputs": [],
   "source": [
    "# First we focus on the time domain.\n",
    "\n",
    "# Set the window sizes to the number of instances representing 5 seconds, 30 seconds and 5 minutes\n",
    "window_sizes = [int(float(5000)/milliseconds_per_instance), int(float(0.5*60000)/milliseconds_per_instance), int(float(5*60000)/milliseconds_per_instance)]\n",
    "\n",
    "NumAbs = NumericalAbstraction()\n",
    "dataset_copy = copy.deepcopy(dataset)\n",
    "for ws in window_sizes:\n",
    "    dataset_copy = NumAbs.abstract_numerical(dataset_copy, ['mag_watch_x'], ws, 'mean')\n",
    "    dataset_copy = NumAbs.abstract_numerical(dataset_copy, ['mag_watch_x'], ws, 'std')\n",
    "\n",
    "DataViz.plot_dataset(dataset_copy, ['mag_watch_x', 'mag_watch_x_temp_mean', 'mag_watch_x_temp_std', 'label'], ['exact', 'like', 'like', 'like'], ['line', 'line', 'line', 'points'])\n"
   ]
  },
  {
   "cell_type": "code",
   "execution_count": null,
   "metadata": {
    "collapsed": true
   },
   "outputs": [],
   "source": [
    "\n",
    "ws = int(float(0.5*60000)/milliseconds_per_instance)\n",
    "selected_predictor_cols = [c for c in dataset.columns if not 'label' in c]\n",
    "dataset = NumAbs.abstract_numerical(dataset, selected_predictor_cols, ws, 'mean')\n",
    "dataset = NumAbs.abstract_numerical(dataset, selected_predictor_cols, ws, 'std')\n",
    "\n",
    "\n",
    "CatAbs = CategoricalAbstraction()\n",
    "dataset = CatAbs.abstract_categorical(dataset, ['label'], ['like'], 0.03, int(float(5*60000)/milliseconds_per_instance), 2)\n"
   ]
  },
  {
   "cell_type": "code",
   "execution_count": null,
   "metadata": {
    "collapsed": true
   },
   "outputs": [],
   "source": [
    "\n",
    "# Now we move to the frequency domain, with the same window size.\n",
    "\n",
    "FreqAbs = FourierTransformation()\n",
    "fs = float(1000)/milliseconds_per_instance\n",
    "\n",
    "periodic_predictor_cols = ['acc_phone_x','acc_phone_y','acc_phone_z','acc_watch_x','acc_watch_y','acc_watch_z','gyr_phone_x','gyr_phone_y',\n",
    "                           'gyr_phone_z','gyr_watch_x','gyr_watch_y','gyr_watch_z','mag_phone_x','mag_phone_y','mag_phone_z',\n",
    "                           'mag_watch_x','mag_watch_y','mag_watch_z']\n",
    "data_table = FreqAbs.abstract_frequency(copy.deepcopy(dataset), ['mag_watch_x'], int(float(10000)/milliseconds_per_instance), fs)\n"
   ]
  },
  {
   "cell_type": "code",
   "execution_count": null,
   "metadata": {
    "collapsed": true
   },
   "outputs": [],
   "source": [
    "\n",
    "# Spectral analysis.\n",
    "\n",
    "DataViz.plot_dataset(data_table, ['acc_phone_x_max_freq', 'acc_phone_x_freq_weighted', 'acc_phone_x_pse', 'label'], ['like', 'like', 'like', 'like'], ['line', 'line', 'line','points'])\n",
    "\n",
    "dataset = FreqAbs.abstract_frequency(dataset, periodic_predictor_cols, int(float(10000)/milliseconds_per_instance), fs)\n"
   ]
  },
  {
   "cell_type": "code",
   "execution_count": null,
   "metadata": {
    "collapsed": false
   },
   "outputs": [],
   "source": [
    "# Now we only take a certain percentage of overlap in the windows, otherwise our training examples will be too much alike.\n",
    "\n",
    "# The percentage of overlap we allow\n",
    "window_overlap = 0.9\n",
    "skip_points = int((1-window_overlap) * ws)\n",
    "dataset = dataset.iloc[::skip_points,:]\n",
    "\n",
    "\n",
    "DataViz.plot_dataset(dataset, ['acc_phone_x', 'gyr_phone_x', 'hr_watch_rate', 'light_phone_lux', 'mag_phone_x', 'press_phone_', 'pca_1', 'label'], ['like', 'like', 'like', 'like', 'like', 'like', 'like','like'], ['line', 'line', 'line', 'line', 'line', 'line', 'line', 'points'])\n"
   ]
  },
  {
   "cell_type": "code",
   "execution_count": null,
   "metadata": {
    "collapsed": true
   },
   "outputs": [],
   "source": []
  }
 ],
 "metadata": {
  "anaconda-cloud": {},
  "kernelspec": {
   "display_name": "Python [conda env:Anaconda2]",
   "language": "python",
   "name": "conda-env-Anaconda2-py"
  },
  "language_info": {
   "codemirror_mode": {
    "name": "ipython",
    "version": 2
   },
   "file_extension": ".py",
   "mimetype": "text/x-python",
   "name": "python",
   "nbconvert_exporter": "python",
   "pygments_lexer": "ipython2",
   "version": "2.7.12"
  }
 },
 "nbformat": 4,
 "nbformat_minor": 2
}
