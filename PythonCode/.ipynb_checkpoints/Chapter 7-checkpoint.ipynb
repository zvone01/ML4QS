{
 "cells": [
  {
   "cell_type": "code",
<<<<<<< HEAD
   "execution_count": 3,
   "metadata": {},
   "outputs": [],
=======
   "execution_count": 4,
   "metadata": {},
   "outputs": [
    {
     "name": "stderr",
     "output_type": "stream",
     "text": [
      "C:\\Users\\Gossa\\Anaconda2\\envs\\ML_1\\lib\\site-packages\\ipykernel_launcher.py:36: FutureWarning: to_datetime is deprecated. Use pd.to_datetime(...)\n"
     ]
    },
    {
     "name": "stdout",
     "output_type": "stream",
     "text": [
      "Training set length is:  881\n",
      "Test set length is:  379\n",
      "#basic features:  21\n",
      "#PCA features:  7\n",
      "#time features:  0\n",
      "#frequency features:  0\n",
      "#cluster features:  1\n"
     ]
    }
   ],
>>>>>>> 27a46a006f4859c1843dc3c7b6f1a66ea1125b0e
   "source": [
    "from util.VisualizeDataset import VisualizeDataset\n",
    "from Chapter7.PrepareDatasetForLearning import PrepareDatasetForLearning\n",
    "from Chapter7.LearningAlgorithms import ClassificationAlgorithms\n",
    "from Chapter7.LearningAlgorithms import RegressionAlgorithms\n",
    "from Chapter7.Evaluation import ClassificationEvaluation\n",
    "from Chapter7.Evaluation import RegressionEvaluation\n",
    "from Chapter7.FeatureSelection import FeatureSelectionClassification\n",
    "from Chapter7.FeatureSelection import FeatureSelectionRegression\n",
    "import copy\n",
    "import pandas as pd\n",
    "from util import util\n",
    "import matplotlib.pyplot as plot\n",
    "import numpy as np\n",
    "from sklearn.model_selection import train_test_split\n",
<<<<<<< HEAD
    "import os"
   ]
  },
  {
   "cell_type": "code",
   "execution_count": 4,
   "metadata": {},
   "outputs": [
    {
     "name": "stderr",
     "output_type": "stream",
     "text": [
      "C:\\Users\\zdujmic\\AppData\\Local\\Continuum\\Anaconda2\\envs\\ml4qs\\lib\\site-packages\\ipykernel_launcher.py:19: FutureWarning: to_datetime is deprecated. Use pd.to_datetime(...)\n"
     ]
    }
   ],
   "source": [
=======
    "import os\n",
    "\n",
    "\n",
>>>>>>> 27a46a006f4859c1843dc3c7b6f1a66ea1125b0e
    "# Of course we repeat some stuff from Chapter 3, namely to load the dataset\n",
    "\n",
    "DataViz = VisualizeDataset()\n",
    "\n",
    "# Read the result from the previous chapter, and make sure the index is of the type datetime.\n",
    "\n",
<<<<<<< HEAD
    "dataset_path = './intermediate_datafiles/'\n",
=======
    "dataset_path = 'C:/Users/Gossa/Documents/Master/Machine Learning for the Quantified Self/ML4QS/PythonCode/intermediate_datafiles/ourdata/'\n",
>>>>>>> 27a46a006f4859c1843dc3c7b6f1a66ea1125b0e
    "export_tree_path = 'Example_graphs/Chapter7/'\n",
    "\n",
    "try:\n",
    "    dataset = pd.read_csv(dataset_path + 'chapter5_result.csv', index_col=0)\n",
    "except IOError as e:\n",
    "    print('File not found, try to run previous crowdsignals scripts first!')\n",
    "    raise e\n",
    "\n",
    "if not os.path.exists(export_tree_path):\n",
    "    os.makedirs(export_tree_path)\n",
    "\n",
<<<<<<< HEAD
    "dataset.index = dataset.index.to_datetime()\n"
   ]
  },
  {
   "cell_type": "code",
   "execution_count": null,
   "metadata": {},
   "outputs": [
    {
     "name": "stdout",
     "output_type": "stream",
     "text": [
      "Training set length is:  1285\n",
      "Test set length is:  552\n",
      "#basic features:  21\n",
      "#PCA features:  7\n",
      "#time features:  56\n",
      "#frequency features:  432\n",
      "#cluster features:  1\n",
      "0\n"
     ]
    }
   ],
   "source": [
=======
    "dataset.index = dataset.index.to_datetime()\n",
>>>>>>> 27a46a006f4859c1843dc3c7b6f1a66ea1125b0e
    "\n",
    "# Let us consider our first task, namely the prediction of the label. We consider this as a non-temporal task.\n",
    "\n",
    "# We create a single column with the categorical attribute representing our class. Furthermore, we use 70% of our data\n",
    "# for training and the remaining 30% as an independent test set. We select the sets based on stratified sampling. We remove\n",
    "# cases where we do not know the label.\n",
    "\n",
    "prepare = PrepareDatasetForLearning()\n",
    "\n",
    "train_X, test_X, train_y, test_y = prepare.split_single_dataset_classification(dataset, ['label'], 'like', 0.7, filter=True, temporal=False)\n",
    "#train_X, test_X, train_y, test_y = prepare.split_single_dataset_classification(dataset, ['label'], 'like', 0.01, filter=True, temporal=False)\n",
    "\n",
    "print 'Training set length is: ', len(train_X.index)\n",
    "print 'Test set length is: ', len(test_X.index)\n",
    "\n",
    "# Select subsets of the features that we will consider:\n",
    "\n",
    "basic_features = ['acc_phone_x','acc_phone_y','acc_phone_z','acc_watch_x','acc_watch_y','acc_watch_z','gyr_phone_x','gyr_phone_y','gyr_phone_z','gyr_watch_x','gyr_watch_y','gyr_watch_z',\n",
    "                  'hr_watch_rate', 'light_phone_lux','mag_phone_x','mag_phone_y','mag_phone_z','mag_watch_x','mag_watch_y','mag_watch_z','press_phone_pressure']\n",
    "pca_features = ['pca_1','pca_2','pca_3','pca_4','pca_5','pca_6','pca_7']\n",
    "time_features = [name for name in dataset.columns if '_temp_' in name]\n",
    "freq_features = [name for name in dataset.columns if (('_freq' in name) or ('_pse' in name))]\n",
    "print '#basic features: ', len(basic_features)\n",
    "print '#PCA features: ', len(pca_features)\n",
    "print '#time features: ', len(time_features)\n",
    "print '#frequency features: ', len(freq_features)\n",
    "cluster_features = ['cluster']\n",
    "print '#cluster features: ', len(cluster_features)\n",
    "features_after_chapter_3 = list(set().union(basic_features, pca_features))\n",
    "features_after_chapter_4 = list(set().union(basic_features, pca_features, time_features, freq_features))\n",
<<<<<<< HEAD
    "features_after_chapter_5 = list(set().union(basic_features, pca_features, time_features, freq_features, cluster_features))\n",
    "\n",
    "\n",
    "# First, let us consider the performance over a selection of features:\n",
    "\n",
    "fs = FeatureSelectionClassification()\n",
    "\n",
    "features, ordered_features, ordered_scores = fs.forward_selection(50, train_X[features_after_chapter_5], train_y)\n",
    "print ordered_scores\n",
    "print ordered_features\n",
    "\n",
    "plot.plot(range(1, 51), ordered_scores)\n",
    "plot.xlabel('number of features')\n",
    "plot.ylabel('accuracy')\n",
    "plot.show()\n",
    "\n",
    "# Based on the plot we select the top 10 features.\n",
    "\n",
    "selected_features = ['acc_phone_y_freq_0.0_Hz_ws_40', 'press_phone_pressure_temp_mean_ws_120', 'gyr_phone_x_temp_std_ws_120',\n",
    "                     'mag_watch_y_pse', 'mag_phone_z_max_freq', 'gyr_watch_y_freq_weighted', 'gyr_phone_y_freq_1.0_Hz_ws_40',\n",
    "                     'acc_phone_x_freq_1.9_Hz_ws_40', 'mag_watch_z_freq_0.9_Hz_ws_40', 'acc_watch_y_freq_0.5_Hz_ws_40']\n",
    "\n",
    "# Let us first study the impact of regularization and model complexity: does regularization prevent overfitting?\n",
    "\n",
    "learner = ClassificationAlgorithms()\n",
    "eval = ClassificationEvaluation()\n",
    "\n",
    "reg_parameters = [0.0001, 0.001, 0.01, 0.1, 1, 10]\n",
    "performance_training = []\n",
    "performance_test = []\n",
    "\n",
    "# We repeat the experiment a number of times to get a bit more robust data as the initialization of the NN is random.\n",
    "\n",
    "repeats = 20\n",
    "\n",
    "for reg_param in reg_parameters:\n",
    "    performance_tr = 0\n",
    "    performance_te = 0\n",
    "    for i in range(0, repeats):\n",
    "        class_train_y, class_test_y, class_train_prob_y, class_test_prob_y = learner.feedforward_neural_network(train_X, train_y,\n",
    "                                                                                                            test_X, hidden_layer_sizes=(250, ), alpha=reg_param, max_iter=500,\n",
    "                                                                                                            gridsearch=False)\n",
    "        performance_tr += eval.accuracy(train_y, class_train_y)\n",
    "        performance_te += eval.accuracy(test_y, class_test_y)\n",
    "    performance_training.append(performance_tr/repeats)\n",
    "    performance_test.append(performance_te/repeats)\n",
    "\n",
    "plot.hold(True)\n",
    "plot.semilogx(reg_parameters, performance_training, 'r-')\n",
    "plot.semilogx(reg_parameters, performance_test, 'b:')\n",
    "print performance_training\n",
    "print performance_test\n",
    "plot.xlabel('regularization parameter value')\n",
    "plot.ylabel('accuracy')\n",
    "plot.ylim([0.95, 1.01])\n",
    "plot.legend(['training', 'test'], loc=4)\n",
    "plot.hold(False)\n",
    "\n",
    "plot.show()\n",
    "\n"
=======
    "features_after_chapter_5 = list(set().union(basic_features, pca_features, time_features, freq_features, cluster_features))\n"
>>>>>>> 27a46a006f4859c1843dc3c7b6f1a66ea1125b0e
   ]
  },
  {
   "cell_type": "code",
   "execution_count": null,
<<<<<<< HEAD
   "metadata": {},
   "outputs": [],
   "source": [
    "# Second, let us consider the influence of certain parameter settings (very related to the regulariztion) and study the impact on performance.\n",
    "\n",
    "leaf_settings = [1,2,5,10]\n",
    "performance_training = []\n",
    "performance_test = []\n",
    "\n",
    "for no_points_leaf in leaf_settings:\n",
    "    class_train_y, class_test_y, class_train_prob_y, class_test_prob_y = learner.decision_tree(train_X[selected_features], train_y, test_X[selected_features], min_samples_leaf=no_points_leaf,\n",
    "                                                                                               gridsearch=False, print_model_details=False)\n",
    "    performance_training.append(eval.accuracy(train_y, class_train_y))\n",
    "    performance_test.append(eval.accuracy(test_y, class_test_y))\n",
    "\n",
    "plot.hold(True)\n",
    "plot.plot(leaf_settings, performance_training, 'r-')\n",
    "plot.plot(leaf_settings, performance_test, 'b:')\n",
    "plot.xlabel('minimum number of points per leaf')\n",
    "plot.ylabel('accuracy')\n",
    "plot.legend(['training', 'test'], loc=1)\n",
    "plot.hold(False)\n",
    "\n",
    "plot.show()\n",
    "\n",
    "\n",
    "# So yes, it is important :) Therefore we perform grid searches over the most important parameters, and do so by means\n",
    "# of cross validation upon the training set.\n",
    "\n",
    "\n",
    "possible_feature_sets = [basic_features, features_after_chapter_3, features_after_chapter_4, features_after_chapter_5, selected_features]\n",
    "feature_names = ['initial set', 'Chapter 3', 'Chapter 4', 'Chapter 5', 'Selected features']\n",
    "repeats = 5\n",
    "\n",
    "scores_over_all_algs = []\n",
    "\n",
    "for i in range(0, len(possible_feature_sets)):\n",
    "    selected_train_X = train_X[possible_feature_sets[i]]\n",
    "    selected_test_X = test_X[possible_feature_sets[i]]\n",
    "\n",
    "    # First we run our non deterministic classifiers a number of times to average their score.\n",
    "\n",
    "    performance_tr_nn = 0\n",
    "    performance_tr_rf = 0\n",
    "    performance_tr_svm = 0\n",
    "    performance_te_nn = 0\n",
    "    performance_te_rf = 0\n",
    "    performance_te_svm = 0\n",
    "\n",
    "    for repeat in range(0, repeats):\n",
    "        class_train_y, class_test_y, class_train_prob_y, class_test_prob_y = learner.feedforward_neural_network(selected_train_X, train_y, selected_test_X, gridsearch=True)\n",
    "        performance_tr_nn += eval.accuracy(train_y, class_train_y)\n",
    "        performance_te_nn += eval.accuracy(test_y, class_test_y)\n",
    "\n",
    "        class_train_y, class_test_y, class_train_prob_y, class_test_prob_y = learner.random_forest(selected_train_X, train_y, selected_test_X, gridsearch=True)\n",
    "        performance_tr_rf += eval.accuracy(train_y, class_train_y)\n",
    "        performance_te_rf += eval.accuracy(test_y, class_test_y)\n",
    "\n",
    "        class_train_y, class_test_y, class_train_prob_y, class_test_prob_y = learner.support_vector_machine_with_kernel(selected_train_X, train_y, selected_test_X, gridsearch=True)\n",
    "        performance_tr_svm += eval.accuracy(train_y, class_train_y)\n",
    "        performance_te_svm += eval.accuracy(test_y, class_test_y)\n",
    "\n",
    "\n",
    "    overall_performance_tr_nn = performance_tr_nn/repeats\n",
    "    overall_performance_te_nn = performance_te_nn/repeats\n",
    "    overall_performance_tr_rf = performance_tr_rf/repeats\n",
    "    overall_performance_te_rf = performance_te_rf/repeats\n",
    "    overall_performance_tr_svm = performance_tr_svm/repeats\n",
    "    overall_performance_te_svm = performance_te_svm/repeats\n",
    "\n",
    "    # And we run our deterministic classifiers:\n",
    "\n",
    "\n",
    "    class_train_y, class_test_y, class_train_prob_y, class_test_prob_y = learner.k_nearest_neighbor(selected_train_X, train_y, selected_test_X, gridsearch=True)\n",
    "    performance_tr_knn = eval.accuracy(train_y, class_train_y)\n",
    "    performance_te_knn = eval.accuracy(test_y, class_test_y)\n",
    "\n",
    "    class_train_y, class_test_y, class_train_prob_y, class_test_prob_y = learner.decision_tree(selected_train_X, train_y, selected_test_X, gridsearch=True)\n",
    "    performance_tr_dt = eval.accuracy(train_y, class_train_y)\n",
    "    performance_te_dt = eval.accuracy(test_y, class_test_y)\n",
    "\n",
    "    class_train_y, class_test_y, class_train_prob_y, class_test_prob_y = learner.naive_bayes(selected_train_X, train_y, selected_test_X)\n",
    "    performance_tr_nb = eval.accuracy(train_y, class_train_y)\n",
    "    performance_te_nb = eval.accuracy(test_y, class_test_y)\n",
    "\n",
    "    scores_with_sd = util.print_table_row_performances(feature_names[i], len(selected_train_X.index), len(selected_test_X.index), [\n",
    "                                                                                                (overall_performance_tr_nn, overall_performance_te_nn),\n",
    "                                                                                                (overall_performance_tr_rf, overall_performance_te_rf),\n",
    "                                                                                                (overall_performance_tr_svm, overall_performance_te_svm),\n",
    "                                                                                                (performance_tr_knn, performance_te_knn),\n",
    "                                                                                                (performance_tr_dt, performance_te_dt),\n",
    "                                                                                                (performance_tr_nb, performance_te_nb)])\n",
    "    scores_over_all_algs.append(scores_with_sd)\n",
    "\n",
    "DataViz.plot_performances_classification(['NN', 'RF', 'SVM', 'KNN', 'DT', 'NB'], feature_names, scores_over_all_algs)\n"
   ]
  },
  {
   "cell_type": "code",
   "execution_count": null,
   "metadata": {},
   "outputs": [],
   "source": [
    "\n",
    "# And we study two promising ones in more detail. First let us consider the decision tree which works best with the selected\n",
    "# features.\n",
    "#\n",
    "class_train_y, class_test_y, class_train_prob_y, class_test_prob_y = learner.decision_tree(train_X[selected_features], train_y, test_X[selected_features],\n",
    "                                                                                           gridsearch=True,\n",
    "                                                                                           print_model_details=True, export_tree_path=export_tree_path)\n",
    "\n",
    "class_train_y, class_test_y, class_train_prob_y, class_test_prob_y = learner.random_forest(train_X[selected_features], train_y, test_X[selected_features],\n",
    "                                                                                           gridsearch=True, print_model_details=True)\n",
    "\n",
    "test_cm = eval.confusion_matrix(test_y, class_test_y, class_train_prob_y.columns)\n",
    "\n",
    "DataViz.plot_confusion_matrix(test_cm, class_train_prob_y.columns, normalize=False)\n"
   ]
=======
   "metadata": {
    "collapsed": true
   },
   "outputs": [],
   "source": []
>>>>>>> 27a46a006f4859c1843dc3c7b6f1a66ea1125b0e
  }
 ],
 "metadata": {
  "kernelspec": {
   "display_name": "Python 2",
   "language": "python",
   "name": "python2"
  },
  "language_info": {
   "codemirror_mode": {
    "name": "ipython",
    "version": 2
   },
   "file_extension": ".py",
   "mimetype": "text/x-python",
   "name": "python",
   "nbconvert_exporter": "python",
   "pygments_lexer": "ipython2",
<<<<<<< HEAD
   "version": "2.7.15"
=======
   "version": "2.7.13"
>>>>>>> 27a46a006f4859c1843dc3c7b6f1a66ea1125b0e
  }
 },
 "nbformat": 4,
 "nbformat_minor": 2
}
