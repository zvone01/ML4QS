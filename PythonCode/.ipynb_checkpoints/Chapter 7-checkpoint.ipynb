{
 "cells": [
  {
   "cell_type": "code",
   "execution_count": 4,
   "metadata": {},
   "outputs": [
    {
     "name": "stderr",
     "output_type": "stream",
     "text": [
      "C:\\Users\\Gossa\\Anaconda2\\envs\\ML_1\\lib\\site-packages\\ipykernel_launcher.py:36: FutureWarning: to_datetime is deprecated. Use pd.to_datetime(...)\n"
     ]
    },
    {
     "name": "stdout",
     "output_type": "stream",
     "text": [
      "Training set length is:  881\n",
      "Test set length is:  379\n",
      "#basic features:  21\n",
      "#PCA features:  7\n",
      "#time features:  0\n",
      "#frequency features:  0\n",
      "#cluster features:  1\n"
     ]
    }
   ],
   "source": [
    "from util.VisualizeDataset import VisualizeDataset\n",
    "from Chapter7.PrepareDatasetForLearning import PrepareDatasetForLearning\n",
    "from Chapter7.LearningAlgorithms import ClassificationAlgorithms\n",
    "from Chapter7.LearningAlgorithms import RegressionAlgorithms\n",
    "from Chapter7.Evaluation import ClassificationEvaluation\n",
    "from Chapter7.Evaluation import RegressionEvaluation\n",
    "from Chapter7.FeatureSelection import FeatureSelectionClassification\n",
    "from Chapter7.FeatureSelection import FeatureSelectionRegression\n",
    "import copy\n",
    "import pandas as pd\n",
    "from util import util\n",
    "import matplotlib.pyplot as plot\n",
    "import numpy as np\n",
    "from sklearn.model_selection import train_test_split\n",
    "import os\n",
    "\n",
    "\n",
    "# Of course we repeat some stuff from Chapter 3, namely to load the dataset\n",
    "\n",
    "DataViz = VisualizeDataset()\n",
    "\n",
    "# Read the result from the previous chapter, and make sure the index is of the type datetime.\n",
    "\n",
    "dataset_path = 'C:/Users/Gossa/Documents/Master/Machine Learning for the Quantified Self/ML4QS/PythonCode/intermediate_datafiles/ourdata/'\n",
    "export_tree_path = 'Example_graphs/Chapter7/'\n",
    "\n",
    "try:\n",
    "    dataset = pd.read_csv(dataset_path + 'chapter5_result.csv', index_col=0)\n",
    "except IOError as e:\n",
    "    print('File not found, try to run previous crowdsignals scripts first!')\n",
    "    raise e\n",
    "\n",
    "if not os.path.exists(export_tree_path):\n",
    "    os.makedirs(export_tree_path)\n",
    "\n",
    "dataset.index = dataset.index.to_datetime()\n",
    "\n",
    "# Let us consider our first task, namely the prediction of the label. We consider this as a non-temporal task.\n",
    "\n",
    "# We create a single column with the categorical attribute representing our class. Furthermore, we use 70% of our data\n",
    "# for training and the remaining 30% as an independent test set. We select the sets based on stratified sampling. We remove\n",
    "# cases where we do not know the label.\n",
    "\n",
    "prepare = PrepareDatasetForLearning()\n",
    "\n",
    "train_X, test_X, train_y, test_y = prepare.split_single_dataset_classification(dataset, ['label'], 'like', 0.7, filter=True, temporal=False)\n",
    "#train_X, test_X, train_y, test_y = prepare.split_single_dataset_classification(dataset, ['label'], 'like', 0.01, filter=True, temporal=False)\n",
    "\n",
    "print 'Training set length is: ', len(train_X.index)\n",
    "print 'Test set length is: ', len(test_X.index)\n",
    "\n",
    "# Select subsets of the features that we will consider:\n",
    "\n",
    "basic_features = ['acc_phone_x','acc_phone_y','acc_phone_z','acc_watch_x','acc_watch_y','acc_watch_z','gyr_phone_x','gyr_phone_y','gyr_phone_z','gyr_watch_x','gyr_watch_y','gyr_watch_z',\n",
    "                  'hr_watch_rate', 'light_phone_lux','mag_phone_x','mag_phone_y','mag_phone_z','mag_watch_x','mag_watch_y','mag_watch_z','press_phone_pressure']\n",
    "pca_features = ['pca_1','pca_2','pca_3','pca_4','pca_5','pca_6','pca_7']\n",
    "time_features = [name for name in dataset.columns if '_temp_' in name]\n",
    "freq_features = [name for name in dataset.columns if (('_freq' in name) or ('_pse' in name))]\n",
    "print '#basic features: ', len(basic_features)\n",
    "print '#PCA features: ', len(pca_features)\n",
    "print '#time features: ', len(time_features)\n",
    "print '#frequency features: ', len(freq_features)\n",
    "cluster_features = ['cluster']\n",
    "print '#cluster features: ', len(cluster_features)\n",
    "features_after_chapter_3 = list(set().union(basic_features, pca_features))\n",
    "features_after_chapter_4 = list(set().union(basic_features, pca_features, time_features, freq_features))\n",
    "features_after_chapter_5 = list(set().union(basic_features, pca_features, time_features, freq_features, cluster_features))\n"
   ]
  },
  {
   "cell_type": "code",
   "execution_count": null,
   "metadata": {
    "collapsed": true
   },
   "outputs": [],
   "source": []
  }
 ],
 "metadata": {
  "kernelspec": {
   "display_name": "Python 2",
   "language": "python",
   "name": "python2"
  },
  "language_info": {
   "codemirror_mode": {
    "name": "ipython",
    "version": 2
   },
   "file_extension": ".py",
   "mimetype": "text/x-python",
   "name": "python",
   "nbconvert_exporter": "python",
   "pygments_lexer": "ipython2",
   "version": "2.7.13"
  }
 },
 "nbformat": 4,
 "nbformat_minor": 2
}
