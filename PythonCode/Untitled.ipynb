{
 "cells": [
  {
   "cell_type": "code",
   "execution_count": 3,
   "metadata": {},
   "outputs": [
    {
     "name": "stderr",
     "output_type": "stream",
     "text": [
      "C:\\Users\\zdujmic\\AppData\\Local\\Continuum\\Anaconda2\\envs\\ml4qs\\lib\\site-packages\\ipykernel_launcher.py:26: FutureWarning: to_datetime is deprecated. Use pd.to_datetime(...)\n"
     ]
    }
   ],
   "source": [
    "##############################################################\n",
    "#                                                            #\n",
    "#    Mark Hoogendoorn and Burkhardt Funk (2017)              #\n",
    "#    Machine Learning for the Quantified Self                #\n",
    "#    Springer                                                #\n",
    "#    Chapter 3                                               #\n",
    "#                                                            #\n",
    "##############################################################\n",
    "\n",
    "from util.VisualizeDataset import VisualizeDataset\n",
    "from Chapter3.DataTransformation import LowPassFilter\n",
    "from Chapter3.DataTransformation import PrincipalComponentAnalysis\n",
    "from Chapter3.ImputationMissingValues import ImputationMissingValues\n",
    "from Chapter3.KalmanFilters import KalmanFilters\n",
    "import copy\n",
    "import pandas as pd\n",
    "import numpy as np\n",
    "import matplotlib.pyplot as plot\n",
    "\n",
    "# Let is create our visualization class again.\n",
    "DataViz = VisualizeDataset()\n",
    "\n",
    "# Read the result from the previous chapter, and make sure the index is of the type datetime.\n",
    "dataset_path = './intermediate_datafiles/ourdata/'\n",
    "dataset = pd.read_csv(dataset_path + 'chapter2_result.csv', index_col=0)\n",
    "dataset.index = dataset.index.to_datetime()\n",
    "\n",
    "# Computer the number of milliseconds covered by an instane based on the first two rows\n",
    "milliseconds_per_instance = (dataset.index[1] - dataset.index[0]).microseconds/1000\n",
    "\n",
    "# Step 2: Let us impute the missing values.\n",
    "\n",
    "MisVal = ImputationMissingValues()\n",
    "\n",
    "# And we impute for all columns except for the label in the selected way (interpolation)\n",
    "\n",
    "for col in [c for c in dataset.columns if not 'label' in c]:\n",
    "    dataset = MisVal.impute_interpolate(dataset, col)\n",
    "\n",
    "\n",
    "\n",
    "# Store the outcome.\n",
    "\n",
    "dataset.to_csv(dataset_path + 'chapter3_result_final.csv')"
   ]
  },
  {
   "cell_type": "code",
   "execution_count": null,
   "metadata": {},
   "outputs": [],
   "source": []
  }
 ],
 "metadata": {
  "kernelspec": {
   "display_name": "Python 2",
   "language": "python",
   "name": "python2"
  },
  "language_info": {
   "codemirror_mode": {
    "name": "ipython",
    "version": 2
   },
   "file_extension": ".py",
   "mimetype": "text/x-python",
   "name": "python",
   "nbconvert_exporter": "python",
   "pygments_lexer": "ipython2",
   "version": "2.7.15"
  }
 },
 "nbformat": 4,
 "nbformat_minor": 2
}
